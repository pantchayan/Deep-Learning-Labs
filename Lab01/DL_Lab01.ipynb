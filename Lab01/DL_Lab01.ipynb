{
  "nbformat": 4,
  "nbformat_minor": 0,
  "metadata": {
    "colab": {
      "name": "DL Lab01",
      "provenance": [],
      "collapsed_sections": []
    },
    "kernelspec": {
      "name": "python3",
      "display_name": "Python 3"
    }
  },
  "cells": [
    {
      "cell_type": "code",
      "metadata": {
        "id": "xhRJ7OiIIMe-",
        "colab_type": "code",
        "colab": {
          "base_uri": "https://localhost:8080/",
          "height": 34
        },
        "outputId": "053a5e6d-3f72-4fa2-d9ed-22e8e02066b3"
      },
      "source": [
        "pip install numpy"
      ],
      "execution_count": 2,
      "outputs": [
        {
          "output_type": "stream",
          "text": [
            "Requirement already satisfied: numpy in /usr/local/lib/python3.6/dist-packages (1.18.5)\n"
          ],
          "name": "stdout"
        }
      ]
    },
    {
      "cell_type": "code",
      "metadata": {
        "id": "LMFUV3tTITkl",
        "colab_type": "code",
        "colab": {}
      },
      "source": [
        "import numpy as np\n"
      ],
      "execution_count": 3,
      "outputs": []
    },
    {
      "cell_type": "code",
      "metadata": {
        "id": "jAVrrWzhIY8Z",
        "colab_type": "code",
        "colab": {
          "base_uri": "https://localhost:8080/",
          "height": 138
        },
        "outputId": "d5f6f004-dd5f-4f42-d834-952a9ce08a47"
      },
      "source": [
        "a = np.array([1, 2, 3, 4, 5])\n",
        "print(a)\n",
        "print(a.ndim)\n",
        "\n",
        "b=np.array([1, 2, 3], dtype='f')\n",
        "print(b)\n",
        "print(b.ndim)\n",
        "\n",
        "c = np.zeros((2,2),dtype=np.complex_)\n",
        "print(c)\n",
        "print(c.ndim)\n"
      ],
      "execution_count": 4,
      "outputs": [
        {
          "output_type": "stream",
          "text": [
            "[1 2 3 4 5]\n",
            "1\n",
            "[1. 2. 3.]\n",
            "1\n",
            "[[0.+0.j 0.+0.j]\n",
            " [0.+0.j 0.+0.j]]\n",
            "2\n"
          ],
          "name": "stdout"
        }
      ]
    },
    {
      "cell_type": "code",
      "metadata": {
        "id": "3bF10a50IxAC",
        "colab_type": "code",
        "colab": {
          "base_uri": "https://localhost:8080/",
          "height": 52
        },
        "outputId": "6df18833-6ac6-4330-9838-9e765109fc0e"
      },
      "source": [
        "#ADD\n",
        "arr = np.array([[1, 2, 3], [4, 5, 6]])\n",
        "arr2= np.array( [[7, 8, 9], [10, 11, 12]])\n",
        "np.add(arr,arr2)"
      ],
      "execution_count": 5,
      "outputs": [
        {
          "output_type": "execute_result",
          "data": {
            "text/plain": [
              "array([[ 8, 10, 12],\n",
              "       [14, 16, 18]])"
            ]
          },
          "metadata": {
            "tags": []
          },
          "execution_count": 5
        }
      ]
    },
    {
      "cell_type": "code",
      "metadata": {
        "id": "aJ7TZyG2I__y",
        "colab_type": "code",
        "colab": {
          "base_uri": "https://localhost:8080/",
          "height": 69
        },
        "outputId": "b6e76b3a-a4f8-4a57-ede5-a447d2f248fc"
      },
      "source": [
        "#TRANSPOSE\n",
        "arr = np.array([[1, 2, 3], [4, 5, 6]])\n",
        "arr.transpose()"
      ],
      "execution_count": 6,
      "outputs": [
        {
          "output_type": "execute_result",
          "data": {
            "text/plain": [
              "array([[1, 4],\n",
              "       [2, 5],\n",
              "       [3, 6]])"
            ]
          },
          "metadata": {
            "tags": []
          },
          "execution_count": 6
        }
      ]
    },
    {
      "cell_type": "code",
      "metadata": {
        "id": "3r-k3GXYsHkW",
        "colab_type": "code",
        "colab": {
          "base_uri": "https://localhost:8080/",
          "height": 52
        },
        "outputId": "fbae8610-7c61-4f73-988e-e6888aa86838"
      },
      "source": [
        "#DOT PRODUCT\n",
        "a = [[1, 2], [4, 1]]  \n",
        "b = [[4, 11], [2, 3]]  \n",
        "c=np.dot(a, b)  \n",
        "c  "
      ],
      "execution_count": 7,
      "outputs": [
        {
          "output_type": "execute_result",
          "data": {
            "text/plain": [
              "array([[ 8, 17],\n",
              "       [18, 47]])"
            ]
          },
          "metadata": {
            "tags": []
          },
          "execution_count": 7
        }
      ]
    },
    {
      "cell_type": "code",
      "metadata": {
        "id": "fk8r2Lt2sdXq",
        "colab_type": "code",
        "colab": {
          "base_uri": "https://localhost:8080/",
          "height": 34
        },
        "outputId": "b891e7f4-5205-4fce-d950-f98c31a834c1"
      },
      "source": [
        "#Row coloumn access/Slicing\n",
        "arr = np.array([[1, 2, 3, 4, 5], [6, 7, 8, 9, 10]])\n",
        "\n",
        "print(arr[1, 1:4])"
      ],
      "execution_count": null,
      "outputs": [
        {
          "output_type": "stream",
          "text": [
            "[7 8 9]\n"
          ],
          "name": "stdout"
        }
      ]
    },
    {
      "cell_type": "code",
      "metadata": {
        "id": "lTexBbW2tss8",
        "colab_type": "code",
        "colab": {
          "base_uri": "https://localhost:8080/",
          "height": 34
        },
        "outputId": "9acb1561-a4aa-4aed-b245-4863ceb27c23"
      },
      "source": [
        "pip install urllib3"
      ],
      "execution_count": 8,
      "outputs": [
        {
          "output_type": "stream",
          "text": [
            "Requirement already satisfied: urllib3 in /usr/local/lib/python3.6/dist-packages (1.24.3)\n"
          ],
          "name": "stdout"
        }
      ]
    },
    {
      "cell_type": "code",
      "metadata": {
        "id": "l0WHHZjuE5RM",
        "colab_type": "code",
        "colab": {}
      },
      "source": [
        "import urllib.request"
      ],
      "execution_count": 9,
      "outputs": []
    },
    {
      "cell_type": "code",
      "metadata": {
        "id": "UhVdyAhJE9nm",
        "colab_type": "code",
        "colab": {
          "base_uri": "https://localhost:8080/",
          "height": 34
        },
        "outputId": "6ec70aa0-9087-4ef7-a6ed-b94880712b63"
      },
      "source": [
        "\n",
        "urllib.request.urlretrieve(url = \"https://figshare.com/articles/dataset/Average_Monthly_Precipitation_for_Boulder_CO_csv_/6856262\",filename = \"precip-months.csv\")\n",
        "\n"
      ],
      "execution_count": null,
      "outputs": [
        {
          "output_type": "execute_result",
          "data": {
            "text/plain": [
              "('precip-months.csv', <http.client.HTTPMessage at 0x7f020a9cf898>)"
            ]
          },
          "metadata": {
            "tags": []
          },
          "execution_count": 36
        }
      ]
    },
    {
      "cell_type": "code",
      "metadata": {
        "id": "k_dPUktsLwGL",
        "colab_type": "code",
        "colab": {
          "base_uri": "https://localhost:8080/",
          "height": 34
        },
        "outputId": "1e624861-175f-4af7-d3b0-03c75c99bf59"
      },
      "source": [
        "urllib.request.urlretrieve(url =\"https://ndownloader.figshare.com/files/12565619\",filename=\"months.txt\")\n"
      ],
      "execution_count": null,
      "outputs": [
        {
          "output_type": "execute_result",
          "data": {
            "text/plain": [
              "('months.txt', <http.client.HTTPMessage at 0x7f020aa05438>)"
            ]
          },
          "metadata": {
            "tags": []
          },
          "execution_count": 31
        }
      ]
    },
    {
      "cell_type": "code",
      "metadata": {
        "id": "cohGDt36MR75",
        "colab_type": "code",
        "colab": {
          "base_uri": "https://localhost:8080/",
          "height": 50
        },
        "outputId": "4ceb5f07-2ec9-41a0-ea3c-b02bcea73afb"
      },
      "source": [
        "\n",
        "months = np.genfromtxt(\"months.txt\", dtype='str')\n",
        "print(months)"
      ],
      "execution_count": null,
      "outputs": [
        {
          "output_type": "stream",
          "text": [
            "['Jan' 'Feb' 'Mar' 'Apr' 'May' 'June' 'July' 'Aug' 'Sept' 'Oct' 'Nov'\n",
            " 'Dec']\n"
          ],
          "name": "stdout"
        }
      ]
    },
    {
      "cell_type": "code",
      "metadata": {
        "id": "qqJRktfbN_e4",
        "colab_type": "code",
        "colab": {
          "base_uri": "https://localhost:8080/",
          "height": 34
        },
        "outputId": "b7a7e09f-c57e-420a-a3f7-92e312290f5b"
      },
      "source": [
        "urllib.request.urlretrieve(url =\"https://ndownloader.figshare.com/files/12565619\",filename=\"months.txt\")"
      ],
      "execution_count": 10,
      "outputs": [
        {
          "output_type": "execute_result",
          "data": {
            "text/plain": [
              "('months.txt', <http.client.HTTPMessage at 0x7fb229b2c400>)"
            ]
          },
          "metadata": {
            "tags": []
          },
          "execution_count": 10
        }
      ]
    },
    {
      "cell_type": "code",
      "metadata": {
        "id": "QHIkfz8uhcVJ",
        "colab_type": "code",
        "colab": {
          "base_uri": "https://localhost:8080/",
          "height": 52
        },
        "outputId": "ec148cdf-1b97-47cf-9e9a-54c99d05ad55"
      },
      "source": [
        "months = np.genfromtxt(\"months.txt\", dtype='str')\n",
        "print(months)"
      ],
      "execution_count": 11,
      "outputs": [
        {
          "output_type": "stream",
          "text": [
            "['Jan' 'Feb' 'Mar' 'Apr' 'May' 'June' 'July' 'Aug' 'Sept' 'Oct' 'Nov'\n",
            " 'Dec']\n"
          ],
          "name": "stdout"
        }
      ]
    },
    {
      "cell_type": "code",
      "metadata": {
        "id": "jk56PWOZidjD",
        "colab_type": "code",
        "colab": {}
      },
      "source": [
        ""
      ],
      "execution_count": null,
      "outputs": []
    }
  ]
}